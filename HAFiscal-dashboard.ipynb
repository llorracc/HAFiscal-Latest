{
 "cells": [
  {
   "cell_type": "markdown",
   "id": "8c3468b6-2b55-4a40-8e66-520e31e62541",
   "metadata": {},
   "source": [
    "# HA Fiscal meets HANK and SAM\n",
    "\n",
    "By William Du (wdu9@jhu.edu)\n",
    "\n",
    " This notebook solves a HANK and SAM model where the household block follows the HA-Fiscal households closely.\n",
    "\n",
    " This notebook will solve and illustrate the impulse responses to a:\n",
    "\n",
    " - UI extension\n",
    "  - A cut to the tax rate\n",
    "  - An increase in transfers (that is proportional to your permanent income)\n",
    "\n",
    "\n"
   ]
  },
  {
   "cell_type": "code",
   "execution_count": 1,
   "id": "8d92d3ef-0812-45b9-b85e-029e65a089d0",
   "metadata": {},
   "outputs": [
    {
     "name": "stderr",
     "output_type": "stream",
     "text": [
      "/opt/anaconda3/envs/HA-Fiscal-temp/lib/python3.9/site-packages/numba/core/decorators.py:282: RuntimeWarning: nopython is set for njit and is ignored\n",
      "  warnings.warn('nopython is set for njit and is ignored', RuntimeWarning)\n"
     ]
    }
   ],
   "source": [
    "# import necessary libraries\n",
    "import numpy as np\n",
    "from copy import deepcopy\n",
    "import scipy.sparse as sp\n",
    "import matplotlib.pyplot as plt\n",
    "import time\n",
    "from HARK.utilities import make_figs"
   ]
  },
  {
   "cell_type": "markdown",
   "id": "e6ead32e-d71f-4d15-a401-e6251a257d50",
   "metadata": {},
   "source": [
    "# Calibrate job transition probabilities"
   ]
  },
  {
   "cell_type": "code",
   "execution_count": 2,
   "id": "5998816e-d51a-4e50-9a32-8197d4e5348f",
   "metadata": {},
   "outputs": [],
   "source": [
    "\n",
    "\n",
    "\n",
    "job_find = 2/3 # job finding probability\n",
    "EU_prob = 0.0306834 # EU probability\n",
    "job_sep = EU_prob/ (1- job_find) # job separation rate\n",
    "\n",
    "\n",
    "markov_array_ss = np.array([[ 1 - job_sep*(1 - job_find ), job_find, job_find, job_find , job_find , job_find],\n",
    "       [job_sep*(1-job_find) , 0.        , 0.        , 0 ,  0, 0       ],\n",
    "       [0.        , (1-job_find), 0.        , 0.  , 0.        , 0.       ],\n",
    "       [0.        , 0, (1-job_find)        , 0.  , 0.        , 0.       ],\n",
    "       [0.        , 0, 0.        , (1-job_find)  , 0.        , 0.       ],\n",
    "\n",
    "       [0.        , 0. , 0 , 0       , (1-job_find), (1-job_find)]  ])\n",
    "\n",
    "mrkv_temp_for_will =markov_array_ss\n",
    "\n",
    "num_mrkv = len(markov_array_ss)\n",
    "\n",
    "eigen, ss_dstn = sp.linalg.eigs(mrkv_temp_for_will , k=1, which='LM') # get steady state distribution over (un)employment states\n",
    "\n",
    "\n",
    "ss_dstn = ss_dstn[:,0] / np.sum(ss_dstn[:,0]) # Steady state distribution of employed/unemployed \n",
    "\n",
    "ss_dstn = ss_dstn.real\n",
    "\n",
    "U_ss = (1-ss_dstn[0]) # steady state unemployment\n",
    "\n",
    "N_ss = ss_dstn[0] # steady state employment\n",
    "\n"
   ]
  },
  {
   "cell_type": "markdown",
   "id": "e170fb27-c69d-425b-adc4-501f510dc425",
   "metadata": {},
   "source": [
    "# Compute Unemployment Rate Jacobian"
   ]
  },
  {
   "cell_type": "code",
   "execution_count": 3,
   "id": "00f93b39-2239-4f95-9c46-f5b95ed313e3",
   "metadata": {},
   "outputs": [],
   "source": [
    "# jacobians for unemployment rate\n",
    "\n",
    "def create_matrix_U(dx):\n",
    "    \n",
    "    job_find_dx = job_find + dx\n",
    "\n",
    "    markov_array = np.array([[ 1 - job_sep*(1 - job_find_dx ), job_find_dx, job_find_dx, job_find_dx , job_find_dx , job_find_dx],\n",
    "           [job_sep*(1-job_find_dx) , 0.        , 0.        , 0 ,  0, 0       ],\n",
    "           [0.        , (1-job_find_dx), 0.        , 0.  , 0.        , 0.       ],\n",
    "           [0.        , 0, (1-job_find_dx)        , 0.  , 0.        , 0.       ],\n",
    "           [0.        , 0, 0.        , (1-job_find_dx)  , 0.        , 0.       ],\n",
    "\n",
    "           [0.        , 0. , 0 , 0       , (1-job_find_dx), (1-job_find_dx)]  ])\n",
    "\n",
    "\n",
    "    return markov_array\n",
    "\n",
    "dx = 0.0001\n",
    "\n",
    "\n",
    "dstn = ss_dstn\n",
    "\n",
    "bigT = 300 # dimension of jacobian matrix, bigT x bigT\n",
    "UJAC = np.zeros((num_mrkv,bigT,bigT))\n",
    "\n",
    "for s in range(bigT):\n",
    "    for i in range(bigT):\n",
    "        if i ==s:\n",
    "            \n",
    "            tranmat = create_matrix_U(dx)\n",
    "        \n",
    "            dstn = np.dot(tranmat,dstn)\n",
    "    \n",
    "        else:\n",
    "            dstn = np.dot(mrkv_temp_for_will,dstn)\n",
    "    \n",
    "        UJAC[:,i,s] = (dstn - ss_dstn) / dx\n"
   ]
  },
  {
   "cell_type": "markdown",
   "id": "19abf37c-f27a-4fac-9060-6707ae4ae303",
   "metadata": {},
   "source": [
    "# Calibration for General equilibrium parameters"
   ]
  },
  {
   "cell_type": "code",
   "execution_count": 4,
   "id": "fcff88fc-9bd2-4698-bc4d-0091162f945e",
   "metadata": {},
   "outputs": [],
   "source": [
    "# Calibrating General Equilibrium parameters\n",
    "\n",
    "# elasticity\n",
    "alpha = .65\n",
    "\n",
    "# vacancy filling probability\n",
    "phi_ss = .71 \n",
    "\n",
    "#vacancies\n",
    "v_ss = N_ss*job_sep / phi_ss\n",
    "\n",
    "\n",
    "unemployed_searchers = (ss_dstn[1] + ss_dstn[2] + ss_dstn[3]+ ss_dstn[4]+ ss_dstn[5]) \n",
    "\n",
    "# typical job searcher mass is below,\n",
    "seachers = unemployed_searchers + N_ss*job_sep\n",
    "\n",
    "# labor market tightness\n",
    "theta_ss = v_ss/seachers\n",
    "\n",
    "# matching efficiency\n",
    "chi_ss = (phi_ss**(1/-alpha) /theta_ss)**(-alpha)\n",
    "\n",
    "# job finding probabilty economy wide\n",
    "eta_ss  = chi_ss * theta_ss**(1-alpha) \n",
    "\n",
    "\n",
    "R = 1.01 # real interest rate\n",
    "r_ss = R - 1 \n",
    "\n",
    "C_ss_sim  =0.6910496136078721\n",
    "C_ss = C_ss_sim\n",
    "\n",
    "A_ss_sim = 1.4324029855872642\n",
    "A_ss = A_ss_sim\n",
    "\n",
    "\n",
    "delta = ((R**4)*(1-(1/5)) )**(1/4) # or you can do delta = R*(1 -(1/20)), 20 quarters is 5 years\n",
    "\n",
    "qb_ss = (1) / (R - delta) # real price of bonds\n",
    "\n",
    "\n",
    "B_ss = A_ss/qb_ss # steady state level of bonds\n",
    "\n",
    "wage_ss = 1.0 # steady state wage (normalized to one)\n",
    "\n",
    "\n",
    "#before_tax_mean_income = np.mean(IncShkDstn_emp.atoms[1]) / (1-tau_ss)\n",
    "\n",
    "\n",
    "inc_ui_exhaust = 0.5\n",
    "tau_ss = 0.3 # steady state tax rate\n",
    "UI = (1-tau_ss)*.5*wage_ss # Unemployment insurance\n",
    "\n",
    "# private/passive spousal income\n",
    "Y_priv = inc_ui_exhaust*(1-tau_ss)*wage_ss*( ss_dstn[3] + ss_dstn[4]  +  ss_dstn[5]  ) + (.7-.5)*(1-tau_ss)*wage_ss*(ss_dstn[1] + ss_dstn[2] ) #+ wage_ss*(1-tau_ss)*(inc_ui_exhaust -  0.13)*( mean_human_capital_u[3] +mean_human_capital_u[6]+mean_human_capital_u[7])\n",
    "\n",
    "G_ss = tau_ss*wage_ss*ss_dstn[0] - ( UI*(ss_dstn[1] + ss_dstn[2]  )    + ( 1 + delta*qb_ss)*B_ss - qb_ss*B_ss )   # steady state government spending\n",
    "\n",
    "\n",
    "kappa = .07*(wage_ss*phi_ss) # vacancy posting cost is 7% of the real wage.\n",
    "HC_ss =  ( ( kappa/phi_ss) * ( 1 - (1/R)*(1-job_sep) )  + wage_ss ) # Steady State hiring cost \n",
    "\n",
    "\n",
    "\n",
    "epsilon_p = 6 # elasticity of substitution\n",
    "\n",
    "\n",
    "MC_ss = (epsilon_p - 1) /epsilon_p # steady state marginal cost\n",
    " \n",
    "Z_ss = HC_ss/MC_ss # TFP\n",
    "\n",
    "Y_ss = Z_ss*N_ss # output\n",
    "\n",
    "\n",
    "#Steady state inflation\n",
    "pi_ss = 0.0 \n",
    "varphi = 96.9 # price adjustment cost\n",
    "#kappa_p_ss = epsilon_p/varphi\n",
    "\n",
    "\n"
   ]
  },
  {
   "cell_type": "markdown",
   "id": "65c16dea-b3cd-43c9-a3de-339f2d1bae44",
   "metadata": {},
   "source": [
    "# Parameters to be tuned in dashboard"
   ]
  },
  {
   "cell_type": "code",
   "execution_count": 5,
   "id": "1c8d5c22-0701-4678-9955-8c610e93a4a8",
   "metadata": {},
   "outputs": [
    {
     "name": "stdout",
     "output_type": "stream",
     "text": [
      "slope of phillips curve 0.06191950464396284\n"
     ]
    }
   ],
   "source": [
    "#Policy\n",
    "phi_pi = 1.5 # taylor rule coefficient on inflation\n",
    "phi_y = 0.0 # taylor rule coefficient on output\n",
    "\n",
    "rho_r = 0.0 # inertia of taylor rule\n",
    "kappa_p_ss = 0.06191950464396284 # slope of Phillips curve ( between 0 and 1)\n",
    "\n",
    "print('slope of phillips curve', kappa_p_ss)\n",
    "\n",
    "phi_b = .015 # Speed of fiscal adjustment\n",
    "\n",
    "real_wage_rigidity =  0.837 # between 0 and 1\n",
    "\n",
    "# Fiscal Policy parameters\n",
    "UI_extension_length = 4 # number of quarters the 2 quarter UI extension policy is upheld \n",
    "stimulus_check_length = 1 # number of quarters where households receive stimulus checks\n",
    "tax_cut_length = 8 # number of quarters where taxes are cut/lower\n"
   ]
  },
  {
   "cell_type": "markdown",
   "id": "afaf492d-baf5-4601-9b08-8d19bef8f4a4",
   "metadata": {},
   "source": [
    "# Specify General Equilibrium Blocks"
   ]
  },
  {
   "cell_type": "code",
   "execution_count": 6,
   "id": "d9c9ed8a-621a-4a07-8ee1-bf1cebcff7d2",
   "metadata": {},
   "outputs": [],
   "source": [
    "\n",
    "import sequence_jacobian as sj\n",
    "\n",
    "from sequence_jacobian.classes import JacobianDict, SteadyStateDict\n",
    "from sequence_jacobian import het, simple, create_model              # functions\n",
    "from sequence_jacobian.blocks.block import Block\n",
    "from sequence_jacobian.classes.result_dict import ResultDict\n",
    "import sequence_jacobian as sj  # SSJ will allow us to define blocks, models, compute IRFs, etc\n",
    "from matplotlib.pyplot import figure\n",
    "\n",
    "@sj.simple\n",
    "def unemployment1(U1,U2,U3, U4, U5) :\n",
    "    \n",
    "    U = U1 + U2 + U3 + U4 + U5\n",
    "    \n",
    "    return U\n",
    "\n",
    "@sj.simple\n",
    "def marginal_cost(HC,Z):\n",
    "    \n",
    "    MC =  HC/Z\n",
    "    return MC\n",
    "\n",
    "\n",
    "@sj.solved(unknowns={'HC': (-10, 10.0)}, targets=['HC_resid'], solver=\"brentq\")\n",
    "def hiring_cost(HC,Z,phi,job_sep,r_ante,w):\n",
    "    \n",
    "    \n",
    "    HC_resid = HC - (  ( w  + (kappa/(phi)) - (1/ (1 + r_ante ) )*(1-job_sep) *( kappa/( phi(+1))     )))\n",
    "\n",
    "    return HC_resid\n",
    "\n",
    "\n",
    "\n",
    "phi_w = 1.0\n",
    "\n",
    "@sj.solved(unknowns={'w': (-10, 10.0)}, targets=['wage_resid'], solver=\"brentq\")\n",
    "def wage_(w,N,phi_w):\n",
    "    \n",
    "    wage_resid =( w/wage_ss).apply(np.log) - ( phi_w* (w(-1)/wage_ss).apply(np.log) +  (1 - phi_w)*(N/N_ss).apply(np.log)  )\n",
    "    return wage_resid\n",
    "\n",
    "\n",
    "\n",
    "\n",
    "\n",
    "\n",
    "@sj.solved(unknowns={'pi': (-0.1, 0.1)}, targets=['nkpc_resid'], solver=\"brentq\")\n",
    "def Phillips_Curve(pi,MC,Y,r_ante,kappa_p):\n",
    "\n",
    "    nkpc_resid =  (1+pi).apply(np.log) - (  kappa_p*(MC-MC_ss) +  (1/ (1 + r_ante ) ) *(Y(+1)/Y) * (1 + pi(+1) ).apply(np.log) )\n",
    "\n",
    "    return nkpc_resid\n",
    "\n",
    "\n",
    "\n",
    "@sj.solved(unknowns={'i': (-.5, 0.4)}, targets=['taylor_resid'], solver=\"brentq\")\n",
    "def taylor(i,pi,Y,ev,rho_r,phi_y,phi_pi):\n",
    "    taylor_resid = i - rho_r*i(-1) - (1-rho_r)*( phi_pi*pi + phi_y*Y ) - ev\n",
    "    return taylor_resid\n",
    "\n",
    "\n",
    "@sj.solved(unknowns={'i': (-.5, 0.4)}, targets=['taylor_resid'], solver=\"brentq\")\n",
    "def taylor_lagged(i,pi,Y,ev,rho_r,phi_y,phi_pi,lag):\n",
    "    taylor_resid = i - rho_r*i(-1) - (1-rho_r)*( phi_pi*pi(-lag) + phi_y*Y(-lag)) - ev\n",
    "                                                \n",
    "    return taylor_resid\n",
    "\n",
    "\n",
    "\n",
    "@sj.simple\n",
    "def matching(theta,chi):\n",
    "    \n",
    "    eta  = chi * theta**(1-alpha)\n",
    "    \n",
    "    phi = chi * theta**(-alpha)\n",
    "\n",
    "    \n",
    "    \n",
    "    return eta,phi\n",
    "    \n",
    "\n",
    "\n",
    "\n",
    "@sj.solved(unknowns={'B': (0.0, 10)}, targets=['fiscal_resid'], solver=\"brentq\")\n",
    "def fiscal(B,N,qb,G,  w,v,pi,phi_b, UI, U1, U2, U3 , U4, transfers,UI_extend, deficit_T,UI_rr):\n",
    "    \n",
    "    \n",
    "    \n",
    "    fiscal_resid = (1 + delta*qb)*B(-1) + G + transfers +  UI *(U1 + U2  )  + UI_rr*wage_ss*(1-tau_ss)*(U1 + U2  ) + UI_extend*wage_ss*(1-tau_ss)*(U3 + U4)  +  - qb*B - (tau_ss +phi_b*qb_ss*(B(deficit_T)-B_ss)/Y_ss)*w*N\n",
    "\n",
    "    #UI_extension_cost = UI_extend*(U3 + U4)\n",
    "\n",
    "    UI_extension_cost  =UI_extend*wage_ss*(1-tau_ss)*(U3 + U4)\n",
    "\n",
    "    UI_rr_cost =   UI_rr*wage_ss*(1-tau_ss)*(U1 + U2  )\n",
    "\n",
    "    debt = qb*B\n",
    "\n",
    "    return fiscal_resid,UI_extension_cost,debt,UI_rr_cost\n",
    "\n",
    "\n",
    "\n",
    "\n",
    "\n",
    "\n",
    "@sj.simple\n",
    "def fiscal_rule(B,phi_b,deficit_T):\n",
    "    \n",
    "    tau = tau_ss + phi_b*qb_ss*(B(deficit_T)-B_ss)/Y_ss\n",
    "    \n",
    "    return tau\n",
    "\n",
    "\n",
    "\n",
    "@sj.solved(unknowns={'B': (0.0, 10)}, targets=['fiscal_resid'], solver=\"brentq\")\n",
    "def fiscal_G(B,N,qb,  w,v,pi, UI, U1, U2, transfers, phi_G,tau,deficit_T):\n",
    "    \n",
    "    fiscal_resid = (1 + delta*qb)*B(-1) + G_ss + phi_G*qb_ss*(B(deficit_T)-B_ss)/Y_ss + transfers +  UI *(U1 + U2  )  +  - qb*B - (tau)*w*N\n",
    "\n",
    "    tax_cost = (tau)*1.0*N_ss\n",
    "\n",
    "    #tax_cost = (tau)*w*N\n",
    "\n",
    "\n",
    "    return fiscal_resid,tax_cost\n",
    "\n",
    "\n",
    "\n",
    "@sj.simple\n",
    "def fiscal_rule_G(B,phi_G,deficit_T):\n",
    "    \n",
    "    G = G_ss + phi_G*qb_ss*(B(deficit_T)-B_ss)/Y_ss\n",
    "    \n",
    "    return G\n",
    "\n",
    "\n",
    "\n",
    "@sj.simple\n",
    "def production(Z,N):\n",
    "    Y  = Z*N\n",
    "    return Y\n",
    "\n",
    "\n",
    "@sj.simple\n",
    "def ex_post_longbonds_rate(qb):\n",
    "    \n",
    "    r = (1 + delta * qb)/qb(-1) - 1\n",
    "\n",
    "    return r\n",
    "\n",
    "\n",
    "@sj.solved(unknowns={'qb': (0.1, 30.0)}, targets=['lbp_resid'], solver=\"brentq\")\n",
    "def longbonds_price(qb, r_ante):\n",
    "    lbp_resid = qb - (1 + delta * qb(+1) )/ (1 + r_ante)\n",
    "    return lbp_resid\n",
    "\n",
    "@sj.simple\n",
    "def vacancies(N,phi,job_sep):\n",
    "    \n",
    "    v = (N - (1-job_sep(-1))*N(-1))/phi\n",
    "    \n",
    "    return v\n",
    "\n",
    "\n",
    "@sj.simple\n",
    "def mkt_clearing( C ,G,A,qb,B,w,N,U1,U2,U3, U4, U5):\n",
    "    \n",
    "\n",
    "    Y_priv = (1-tau_ss)*wage_ss*.5*  (U3 + U4 + U5)  + (1-tau_ss)*wage_ss*.2*(U1 + U2)\n",
    "\n",
    "    goods_mkt = C + G - w*N  - Y_priv \n",
    "    \n",
    "    asset_mkt = A  - qb*B\n",
    "\n",
    "    return goods_mkt, asset_mkt,Y_priv\n",
    "\n",
    "\n",
    "\n",
    "@sj.simple\n",
    "def fisher_clearing(r_ante,pi,i):\n",
    "    \n",
    "    fisher_resid = 1 + r_ante - ((1+i)/(1+pi(+1))) \n",
    "    \n",
    "    return fisher_resid\n",
    "\n",
    "\n"
   ]
  },
  {
   "cell_type": "code",
   "execution_count": 7,
   "id": "9af0fcf8-1f8b-4aed-9d55-cfcfa8e0acb9",
   "metadata": {},
   "outputs": [],
   "source": [
    "\n",
    "\n",
    "\n",
    "\n",
    "\n",
    "@sj.simple\n",
    "def fisher_clearing_fixed_real_rate(pi):\n",
    "    \"\"\"\n",
    "    fisher_resid = 1 + r_ss - ((1+i)/(1+pi(+1))) \n",
    "    \"\"\"\n",
    "    i = ( 1 + pi(+1) ) * (1 + r_ss ) - 1\n",
    "    return i\n",
    "\n",
    "@sj.solved(unknowns={'B': (0.0, 10)}, targets=['fiscal_resid'], solver=\"brentq\")\n",
    "def fiscal_fixed_real_rate(B,N,G,  w,v,pi,phi_b, UI, U1, U2, U3 , U4, transfers,UI_extend, deficit_T,UI_rr):\n",
    "    \n",
    "    fiscal_resid = (1 + delta*qb_ss)*B(-1) + G + transfers +  UI *(U1 + U2  )  + UI_rr*wage_ss*(1-tau_ss)*(U1 + U2  ) + UI_extend*wage_ss*(1-tau_ss)*(U3 + U4)  +  - qb_ss*B - (tau_ss +phi_b*qb_ss*(B(deficit_T)-B_ss)/Y_ss)*w*N\n",
    "\n",
    "    UI_extension_cost  = UI_extend*wage_ss*(1-tau_ss)*(U3 + U4) \n",
    "\n",
    "    UI_rr_cost =   UI_rr*wage_ss*(1-tau_ss)*(U1 + U2  )\n",
    "\n",
    "\n",
    "    return fiscal_resid,UI_extension_cost,UI_rr_cost\n",
    "\n",
    "\n",
    "@sj.solved(unknowns={'B': (0.0, 10)}, targets=['fiscal_resid'], solver=\"brentq\")\n",
    "def fiscal_G_fixed_real_rate(B,N,  w,v,pi, UI, U1, U2, transfers, phi_G,tau,deficit_T):\n",
    "    \n",
    "    fiscal_resid = (1 + delta*qb_ss)*B(-1) + G_ss + phi_G*qb_ss*(B(deficit_T)-B_ss)/Y_ss + transfers +  UI *(U1 + U2  )  +  - qb_ss*B - (tau)*w*N\n",
    "    tax_cost = (tau)*1.0*N_ss\n",
    "\n",
    "\n",
    "    return fiscal_resid,tax_cost\n"
   ]
  },
  {
   "cell_type": "markdown",
   "id": "18131aef-27e6-429c-a170-012586ba610b",
   "metadata": {},
   "source": [
    "# Define steady state dictionary"
   ]
  },
  {
   "cell_type": "code",
   "execution_count": 8,
   "id": "b57b842e-e538-464b-aecd-0b28a617ca45",
   "metadata": {},
   "outputs": [],
   "source": [
    "\n",
    "# define steady state dictionary\n",
    "\n",
    "SteadyState_Dict = SteadyStateDict({ \"asset_mkt\":0.0,\n",
    "                                         \"goods_mkt\":0.0,\n",
    "                                    \"arg_fisher_resid\":0.0,\n",
    "                                    \"lbp_resid\": 0.0,\n",
    "                                    \"fiscal_resid\":0.0,\n",
    "                                    \"labor_evo_resid\": 0.0,\n",
    "                                    \"taylor_resid\": 0.0,\n",
    "                                    \"nkpc_resid\": 0.0,\n",
    "                                    \n",
    "                                    \"epsilon_p\": epsilon_p,\n",
    "                                    \"U\": (1-N_ss),\n",
    "                                    \"U1\": ss_dstn[1],\n",
    "                                    \"U2\": ss_dstn[2],\n",
    "                                    \"U3\": ss_dstn[3],\n",
    "                                    \"U4\": ss_dstn[4],\n",
    "                                    \"U5\": ss_dstn[5],\n",
    "\n",
    "                                    \"HC\": MC_ss*Z_ss,\n",
    "                        \n",
    "                                    \"MC\": MC_ss,\n",
    "                                    \"C\": C_ss_sim,\n",
    "                                    \"r\": r_ss, \n",
    "                                    \"r_ante\": r_ss,\n",
    "                                    \"Y\": Y_ss,\n",
    "                                    \"B\":B_ss, \n",
    "                                    \"G\":G_ss, \n",
    "                                    \"A\": A_ss_sim, \n",
    "                                    \"tau\": tau_ss,\n",
    "                                    \"eta\": eta_ss,\n",
    "                                    \"phi_b\": phi_b,\n",
    "                                    \"phi_w\":phi_w,\n",
    "\n",
    "                                    \n",
    "                                    \"N\": N_ss,\n",
    "                                    \n",
    "                                    \"phi\": phi_ss,\n",
    "                                    \"v\": v_ss,\n",
    "                                    \"ev\": 0.0,\n",
    "                                    \"Z\": Z_ss,\n",
    "                                    \"job_sep\": job_sep,\n",
    "                                    \"w\":wage_ss,\n",
    "                                    \"pi\":pi_ss,\n",
    "                                    \"i\": r_ss,\n",
    "                                    \"qb\": qb_ss,\n",
    "          \n",
    "            \n",
    "                                    \"varphi\":varphi,\n",
    "                                    \"rho_r\": rho_r,\n",
    "                                    \"kappa_p\":kappa_p_ss,\n",
    "                                    \"phi_pi\": phi_pi,\n",
    "                                    \"phi_y\": phi_y,\n",
    "                                    \n",
    "                                    \"chi\": chi_ss,\n",
    "                                    \"theta\": theta_ss,\n",
    "                                    \"UI\" : UI,\n",
    "                                    \"transfers\": 0.0,\n",
    "                                    \"UI_extend\": 0.0,\n",
    "                                    \"deficit_T\": -1,\n",
    "                                    \"UI_extension_cost\" : 0.0,\n",
    "                                    \"UI_rr\": 0.0,\n",
    "                                    \"debt\": qb_ss*B_ss,\n",
    "                                    \"tax_cost\": tau_ss*wage_ss*N_ss,\n",
    "\n",
    "                                    \"lag\": -1\n",
    "                       \n",
    "                             })\n",
    "\n"
   ]
  },
  {
   "cell_type": "markdown",
   "id": "20675069-75d8-46f1-af5e-c3b43366ad2a",
   "metadata": {},
   "source": [
    "# Import pre-computed Jacobians from pickle files"
   ]
  },
  {
   "cell_type": "code",
   "execution_count": 9,
   "id": "6b2a9e7a-2996-41f3-86a3-6f6e7cd52e9a",
   "metadata": {},
   "outputs": [],
   "source": [
    "\n",
    "import pickle # Import Jacobians\n",
    "\n",
    "\n",
    "obj = open('Code/HA-Models/FromPandemicCode/HA_Fiscal_Jacs.obj', 'rb')\n",
    "HA_fiscal_JAC = pickle.load(obj)\n",
    "obj.close()\n",
    "\n",
    "# main jacobians for aggregate consumption and aggregate assets\n",
    "Jacobian_Dict = JacobianDict( { 'C' : HA_fiscal_JAC['C'] ,\n",
    "                                    \n",
    "                                  'A' : HA_fiscal_JAC['A'] } )\n",
    "\n",
    "CJACs_by_educ = HA_fiscal_JAC['C_by_educ']\n",
    "AJACs_by_educ = HA_fiscal_JAC['A_by_educ']\n",
    "\n",
    "\n",
    "\n",
    "obj = open('Code/HA-Models/FromPandemicCode/HA_Fiscal_Jacs_UI_extend_real.obj', 'rb')\n",
    "UI_extend_realized_Jacs= pickle.load(obj)\n",
    "obj.close()\n",
    "\n",
    "\n",
    "Jacobian_Dict_UI_extend_real = deepcopy(JacobianDict( { 'C' : HA_fiscal_JAC['C'] ,\n",
    "                                    \n",
    "                                  'A' : HA_fiscal_JAC['A'] } ))\n",
    "\n",
    "Jacobian_Dict_UI_extend_real['C']['UI_extend'] = UI_extend_realized_Jacs['C']['UI_extend_real']\n",
    "Jacobian_Dict_UI_extend_real['A']['UI_extend'] = UI_extend_realized_Jacs['A']['UI_extend_real']\n",
    "\n",
    "\n",
    "\n",
    "Jacobian_Dict_by_educ = JacobianDict( { 'C_dropout' :CJACs_by_educ['dropout'] ,\n",
    "                               'C_highschool':CJACs_by_educ['highschool'] ,\n",
    "                               'C_college' :CJACs_by_educ['college'],\n",
    "                                    \n",
    "                                  'A_dropout' : AJACs_by_educ['dropout'] ,\n",
    "                               'A_highschool' : AJACs_by_educ['highschool'] ,\n",
    "                               'A_college' : AJACs_by_educ['college']  } )\n",
    "\n",
    "\n",
    "# (Un)employment rate Jacobians\n",
    "UJAC_dict = JacobianDict( {    'N': {'eta': UJAC[0]},\n",
    "\n",
    "    'U1': {'eta': UJAC[1]},\n",
    "    'U2': {'eta': UJAC[2]},\n",
    "    'U3': {'eta': UJAC[3]},\n",
    "    'U4': {'eta': UJAC[4]},\n",
    "    'U5': {'eta': UJAC[5]},})\n",
    "\n",
    "\n",
    "    "
   ]
  },
  {
   "cell_type": "code",
   "execution_count": 10,
   "id": "00b94f94-74b3-41ef-a4d5-84263c34b89f",
   "metadata": {},
   "outputs": [],
   "source": [
    "from copy import copy\n",
    "old_Jacobian_Dict = deepcopy(Jacobian_Dict)\n",
    "periods = old_Jacobian_Dict['C']['transfers'].shape[0]\n",
    "\n",
    "do_splurge = True\n",
    "if do_splurge:\n",
    "    splurge = 0.3\n",
    "    # Loop though Jacobians\n",
    "    for jacobian_input in ['transfers', 'tau', 'UI_extend', 'UI_rr' , 'eta', 'w']:\n",
    "        # Calculate the present value of the policy announced for time s\n",
    "        present_value = np.sum((old_Jacobian_Dict['C'][jacobian_input]/R**np.arange(periods)),axis=0)\n",
    "        # The splurge jacobian consists of spending the value of the policy at the time that the cash arrives\n",
    "        splurge_jacobian_component = np.diag(present_value*R**np.arange(periods))\n",
    "        # The total splurge jacobian is a weighted average of the spurge component and the original jacobian\n",
    "        splurge_jacobian = splurge*splurge_jacobian_component + (1-splurge)*old_Jacobian_Dict['C'][jacobian_input]\n",
    "        Jacobian_Dict['C'][jacobian_input] = splurge_jacobian\n",
    "        Jacobian_Dict['A'][jacobian_input] = (1-splurge)*old_Jacobian_Dict['A'][jacobian_input]\n",
    "                            \n",
    "            \n",
    "                           "
   ]
  },
  {
   "cell_type": "markdown",
   "id": "c3a9794c-2ce4-4399-a153-4b635d9aa41e",
   "metadata": {},
   "source": [
    "# Create HANK and SAM models"
   ]
  },
  {
   "cell_type": "code",
   "execution_count": 11,
   "id": "5d191bf0-a3c9-462f-b898-dbb8ff7bd2a8",
   "metadata": {},
   "outputs": [],
   "source": [
    "\n",
    "HANK_SAM = create_model([Jacobian_Dict, \n",
    "                         Jacobian_Dict_by_educ,\n",
    "                          fiscal,\n",
    "                          longbonds_price,\n",
    "                          ex_post_longbonds_rate,\n",
    "                          fiscal_rule,\n",
    "                          production,\n",
    "                          matching,\n",
    "                          taylor,\n",
    "                          Phillips_Curve,\n",
    "                          marginal_cost,\n",
    "                          UJAC_dict,\n",
    "                          hiring_cost,\n",
    "                          wage_,\n",
    "                          vacancies,\n",
    "                          \n",
    "                          unemployment1,\n",
    "\n",
    "                          fisher_clearing,mkt_clearing], name=\"HARK_HANK\")\n",
    "\n",
    "\n",
    "\n",
    "\n",
    "HANK_SAM_tax_rate_shock = create_model([Jacobian_Dict, \n",
    "                                        Jacobian_Dict_by_educ,\n",
    "                          fiscal_G,\n",
    "                          \n",
    "                          longbonds_price,\n",
    "                          ex_post_longbonds_rate,\n",
    "                          fiscal_rule_G,\n",
    "                          \n",
    "                          production,\n",
    "                          matching,\n",
    "                          taylor,\n",
    "                          Phillips_Curve,\n",
    "                          marginal_cost,\n",
    "                          UJAC_dict,\n",
    "                    \n",
    "                          hiring_cost,\n",
    "                          wage_,\n",
    "                          vacancies,\n",
    "                          \n",
    "                          unemployment1,\n",
    "                          fisher_clearing,mkt_clearing], name=\"HARK_HANK\")\n",
    "\n",
    "HANK_SAM_lagged_taylor_rule = create_model([Jacobian_Dict, \n",
    "                         Jacobian_Dict_by_educ,\n",
    "                          fiscal,\n",
    "                          longbonds_price,\n",
    "                          ex_post_longbonds_rate,\n",
    "                          fiscal_rule,\n",
    "                          production,\n",
    "                          matching,\n",
    "                          taylor_lagged,\n",
    "                          Phillips_Curve,\n",
    "                          marginal_cost,\n",
    "                          UJAC_dict,\n",
    "                          hiring_cost,\n",
    "                          wage_,\n",
    "                          vacancies,\n",
    "                          \n",
    "                          unemployment1,\n",
    "\n",
    "                          fisher_clearing,\n",
    "                          mkt_clearing], name=\"HARK_HANK\")\n",
    "\n",
    "\n",
    "HANK_SAM_fixed_real_rate = create_model([Jacobian_Dict, \n",
    "                         Jacobian_Dict_by_educ,\n",
    "                          fiscal_fixed_real_rate,\n",
    "                          #longbonds_price,\n",
    "                          #ex_post_longbonds_rate,\n",
    "                          fiscal_rule,\n",
    "                          production,\n",
    "                          matching,\n",
    "                          #taylor_lagged,\n",
    "                          Phillips_Curve,\n",
    "                          marginal_cost,\n",
    "                          UJAC_dict,\n",
    "                          hiring_cost,\n",
    "                          wage_,\n",
    "                          vacancies,\n",
    "                          \n",
    "                          unemployment1,\n",
    "\n",
    "                          fisher_clearing_fixed_real_rate,\n",
    "                          mkt_clearing], name=\"HARK_HANK\")\n",
    "\n",
    "HANK_SAM_fixed_real_rate_UI_extend_real = create_model([Jacobian_Dict_UI_extend_real, \n",
    "                         Jacobian_Dict_by_educ,\n",
    "                          fiscal_fixed_real_rate,\n",
    "                          #longbonds_price,\n",
    "                          #ex_post_longbonds_rate,\n",
    "                          fiscal_rule,\n",
    "                          production,\n",
    "                          matching,\n",
    "                          #taylor_lagged,\n",
    "                          Phillips_Curve,\n",
    "                          marginal_cost,\n",
    "                          UJAC_dict,\n",
    "                          hiring_cost,\n",
    "                          wage_,\n",
    "                          vacancies,\n",
    "                          \n",
    "                          unemployment1,\n",
    "\n",
    "                          fisher_clearing_fixed_real_rate,\n",
    "                          mkt_clearing], name=\"HARK_HANK\")\n",
    "\n",
    "\n",
    "\n",
    "HANK_SAM_tax_cut_fixed_real_rate = create_model([Jacobian_Dict, \n",
    "                         Jacobian_Dict_by_educ,\n",
    "                          fiscal_G_fixed_real_rate,\n",
    "                          #longbonds_price,\n",
    "                          #ex_post_longbonds_rate,\n",
    "                          fiscal_rule_G,\n",
    "                          production,\n",
    "                          matching,\n",
    "                          #taylor_lagged,\n",
    "                          Phillips_Curve,\n",
    "                          marginal_cost,\n",
    "                          UJAC_dict,\n",
    "                          hiring_cost,\n",
    "                          wage_,\n",
    "                          vacancies,\n",
    "                          \n",
    "                          unemployment1,\n",
    "\n",
    "                          fisher_clearing_fixed_real_rate,\n",
    "                          mkt_clearing], name=\"HARK_HANK\")\n",
    "\n",
    "\n",
    "\n",
    "\n",
    "\n"
   ]
  },
  {
   "cell_type": "markdown",
   "id": "bde18d4b-bf04-4ad7-b03b-5ff6dea2a136",
   "metadata": {},
   "source": [
    "# Different stimulus policies"
   ]
  },
  {
   "cell_type": "code",
   "execution_count": 12,
   "id": "9fb9a430-926f-4cf5-8fe7-f7a5f2e527c9",
   "metadata": {},
   "outputs": [],
   "source": [
    "def NPV(irf,length): # to compute Net present value\n",
    "    \n",
    "    NPV = 0\n",
    "    for i in range(length):\n",
    "        \n",
    "        NPV +=irf[i]/R**i\n",
    "        \n",
    "        \n",
    "    return NPV"
   ]
  },
  {
   "cell_type": "code",
   "execution_count": 13,
   "id": "fdff5935-4195-4452-9728-3b4d7a1c126a",
   "metadata": {},
   "outputs": [],
   "source": [
    "unknowns = ['theta', 'r_ante' ]\n",
    "targets = ['asset_mkt', 'fisher_resid' ]\n",
    "targets_goods_mkt = ['asset_mkt', 'fisher_resid' ]\n",
    "\n",
    "T = bigT\n"
   ]
  },
  {
   "cell_type": "markdown",
   "id": "e3acc06e-233f-4a7c-b1e0-e5377e11fae1",
   "metadata": {},
   "source": [
    "# UI extensions"
   ]
  },
  {
   "cell_type": "code",
   "execution_count": 14,
   "id": "98c9a3a6-22cf-4381-a635-46b32bf9d7f6",
   "metadata": {},
   "outputs": [],
   "source": [
    "\n",
    "\n",
    "\n",
    "\n",
    "dUI_extension = np.zeros(bigT)\n",
    "dUI_extension[:UI_extension_length] = .2 # Income of households with UI 0.7, income of households without UI is 0.5. Income of employed is normalized to 1.0. Note that the jacobian in the code is respect to a perturbation that accounts for wages and taxes. In particular, in the code it is: \"+ dx*wage_ss*(1-tau_ss) \"\n",
    "shocks_UI_extension = {'UI_extend': dUI_extension}\n",
    "\n",
    "\n",
    "SteadyState_Dict_UI_extend = deepcopy(SteadyState_Dict)\n",
    "SteadyState_Dict_UI_extend['phi_b'] = phi_b #fiscal adjustment parameter\n",
    "SteadyState_Dict_UI_extend['phi_w'] = real_wage_rigidity #wage ridigity parameter ( if equal to 1.0 than real wage is fixed)\n",
    "SteadyState_Dict_UI_extend['rho_r'] = rho_r #inertial parameter for taylor rule\n",
    "SteadyState_Dict_UI_extend['phi_y'] = phi_y #taylor rule coefficient on output\n",
    "SteadyState_Dict_UI_extend['phi_pi'] = phi_pi #taylor rule coefficient on inflation\n",
    "SteadyState_Dict_UI_extend['deficit_T'] = -1  #the number of periods it takes for government to adjust and follow its fiscal rule.\n",
    "#If equal deficit_T = -40, then government will keep taxes fixed for 40 quarters\n",
    "\n",
    "\n",
    "\n",
    "SteadyState_Dict_UI_extend_fixed_nominal_rate = deepcopy(SteadyState_Dict_UI_extend)\n",
    "SteadyState_Dict_UI_extend_fixed_nominal_rate['phi_pi'] = 0.0 # taylor rule is not active\n",
    "\n",
    "irfs_UI_extend = HANK_SAM.solve_impulse_linear(SteadyState_Dict_UI_extend, unknowns, targets, shocks_UI_extension)\n",
    "irfs_UI_extend_fixed_nominal_rate = HANK_SAM.solve_impulse_linear(SteadyState_Dict_UI_extend_fixed_nominal_rate, unknowns, targets, shocks_UI_extension)\n",
    "\n",
    "\n",
    "\n",
    "green = 'green'\n",
    "\n"
   ]
  },
  {
   "cell_type": "markdown",
   "id": "f185b341-6c9c-442b-828d-4de3aa94d013",
   "metadata": {},
   "source": [
    "# Lag in the taylor rule"
   ]
  },
  {
   "cell_type": "code",
   "execution_count": 15,
   "id": "9771a577-184f-4f9e-9bfe-cec17d868e0f",
   "metadata": {},
   "outputs": [],
   "source": [
    "SteadyState_Dict_UI_extend_lagged_nominal_rate = deepcopy(SteadyState_Dict_UI_extend)\n",
    "\n",
    "monetary_policy_lag = 2 \n",
    "SteadyState_Dict_UI_extend_lagged_nominal_rate['lag'] = monetary_policy_lag # number of quarters the fed does not react\n",
    "irfs_UI_extend_lagged_nominal_rate = HANK_SAM_lagged_taylor_rule.solve_impulse_linear(SteadyState_Dict_UI_extend_lagged_nominal_rate, unknowns, targets, shocks_UI_extension)\n"
   ]
  },
  {
   "cell_type": "markdown",
   "id": "a39f1790-ee07-4b1c-aa41-c4c49799c62d",
   "metadata": {},
   "source": [
    "## Fixed Real Rate"
   ]
  },
  {
   "cell_type": "code",
   "execution_count": 16,
   "id": "df79cf93-57bb-4c51-8460-b49d19d470f2",
   "metadata": {},
   "outputs": [],
   "source": [
    "unknowns_fixed_real_rate = ['theta' ]\n",
    "targets_fixed_real_rate = ['asset_mkt' ]"
   ]
  },
  {
   "cell_type": "code",
   "execution_count": 17,
   "id": "e8a80629-1ca2-45b6-9012-fbe057ef17ad",
   "metadata": {},
   "outputs": [],
   "source": [
    "\n",
    "irfs_UI_extension_fixed_real_rate = HANK_SAM_fixed_real_rate.solve_impulse_linear(SteadyState_Dict_UI_extend, unknowns_fixed_real_rate, targets_fixed_real_rate, shocks_UI_extension)  # solve for IRFs\n",
    "\n"
   ]
  },
  {
   "cell_type": "markdown",
   "id": "eb7249fa-8212-428b-98f2-9978a61275bd",
   "metadata": {},
   "source": [
    "# Fixed real rate"
   ]
  },
  {
   "cell_type": "code",
   "execution_count": 18,
   "id": "12f007f9-1734-4777-be1a-25a66be29c42",
   "metadata": {},
   "outputs": [
    {
     "name": "stdout",
     "output_type": "stream",
     "text": [
      "multiplier out of 2Q UI extension (active taylor rule) 0.988545714898085\n",
      "multiplier out of 2Q UI extension (fixed nominal rate) 1.2792025293909337\n",
      "multiplier out of 2Q UI extension (fixed real rate) 1.2271113737124033\n"
     ]
    }
   ],
   "source": [
    "print('multiplier out of 2Q UI extension (active taylor rule)', NPV(irfs_UI_extend['Y'], bigT)/NPV(irfs_UI_extend['UI_extension_cost'],bigT))\n",
    "\n",
    "print('multiplier out of 2Q UI extension (fixed nominal rate)',NPV(irfs_UI_extend_fixed_nominal_rate['Y'], bigT)/NPV(irfs_UI_extend_fixed_nominal_rate['UI_extension_cost'],bigT))\n",
    "print('multiplier out of 2Q UI extension (fixed real rate)',NPV(irfs_UI_extension_fixed_real_rate['Y'], bigT)/NPV(irfs_UI_extension_fixed_real_rate['UI_extension_cost'],bigT))\n",
    "\n"
   ]
  },
  {
   "cell_type": "code",
   "execution_count": 19,
   "id": "ba5849b9-c868-4a64-b5b4-190391820bb4",
   "metadata": {},
   "outputs": [],
   "source": [
    "irf_UI_extend_realizations = HANK_SAM_fixed_real_rate_UI_extend_real.solve_impulse_linear(SteadyState_Dict_UI_extend, unknowns_fixed_real_rate, targets_fixed_real_rate, shocks_UI_extension)  # solve for IRFs"
   ]
  },
  {
   "cell_type": "markdown",
   "id": "f5dc9c2a-e495-436f-8dec-66ea91e0111f",
   "metadata": {},
   "source": [
    "# Transfers\n"
   ]
  },
  {
   "cell_type": "code",
   "execution_count": 20,
   "id": "aac64154-bb64-4053-9a4b-eeeaefe2ed06",
   "metadata": {},
   "outputs": [],
   "source": [
    "\n",
    "\n",
    "\n",
    "dtransfers = np.zeros(bigT)\n",
    "dtransfers[:stimulus_check_length] = C_ss*.05  #Approxiate size of aggregate stimulus check spending \n",
    "shocks_transfers = {'transfers': dtransfers}\n",
    "\n",
    "\n",
    "SteadyState_Dict_transfer = deepcopy(SteadyState_Dict)\n",
    "\n",
    "SteadyState_Dict_transfer['phi_b'] = phi_b\n",
    "SteadyState_Dict_transfer['phi_w'] = real_wage_rigidity\n",
    "SteadyState_Dict_transfer['rho_r'] = rho_r\n",
    "SteadyState_Dict_transfer['phi_y'] = phi_y\n",
    "SteadyState_Dict_transfer['phi_pi'] = phi_pi\n",
    "SteadyState_Dict_transfer['deficit_T'] = -1\n",
    "\n",
    "SteadyState_Dict_UI_transfer_fixed_nominal_rate = deepcopy(SteadyState_Dict_transfer)\n",
    "SteadyState_Dict_UI_transfer_fixed_nominal_rate['phi_pi'] = 0.0\n",
    "\n",
    "irfs_transfer = HANK_SAM.solve_impulse_linear(SteadyState_Dict_transfer, unknowns, targets, shocks_transfers)\n",
    "irfs_transfer_fixed_nominal_rate = HANK_SAM.solve_impulse_linear(SteadyState_Dict_UI_transfer_fixed_nominal_rate, unknowns, targets, shocks_transfers)\n",
    "\n",
    "\n",
    "\n"
   ]
  },
  {
   "cell_type": "code",
   "execution_count": 21,
   "id": "71cd9876-f262-49eb-9d6d-3a74119614de",
   "metadata": {},
   "outputs": [
    {
     "name": "stdout",
     "output_type": "stream",
     "text": [
      "multiplier out of transfers 0.8879593016300241\n",
      "multiplier out of transfers (fixed nominal rate) 1.2402181267974106\n"
     ]
    }
   ],
   "source": [
    "print('multiplier out of transfers', NPV(irfs_transfer['Y'], bigT)/NPV(irfs_transfer['transfers'],bigT))\n",
    "\n",
    "print('multiplier out of transfers (fixed nominal rate)', NPV(irfs_transfer_fixed_nominal_rate['Y'], bigT)/NPV(irfs_transfer_fixed_nominal_rate['transfers'],bigT))\n"
   ]
  },
  {
   "cell_type": "markdown",
   "id": "3532697c-21eb-4d7d-88be-02f9af34c2c9",
   "metadata": {},
   "source": [
    "## lagged taylor rule\n",
    "\n",
    "Fed does not react for a certain number of periods."
   ]
  },
  {
   "cell_type": "code",
   "execution_count": 22,
   "id": "1bd86afa-d9b6-4eb8-aabb-8d6e325d29d4",
   "metadata": {},
   "outputs": [],
   "source": [
    "SteadyState_Dict_transfers_lagged_nominal_rate = deepcopy(SteadyState_Dict_transfer)\n",
    "\n",
    "monetary_policy_lag = 2\n",
    "SteadyState_Dict_transfers_lagged_nominal_rate['lag'] = monetary_policy_lag # number of quarters the fed does not react\n",
    "irfs_transfers_lagged_nominal_rate = HANK_SAM_lagged_taylor_rule.solve_impulse_linear(SteadyState_Dict_transfers_lagged_nominal_rate, unknowns, targets, shocks_transfers)\n",
    "\n"
   ]
  },
  {
   "cell_type": "markdown",
   "id": "10f18683-78b3-4f72-90f0-66a959a30e04",
   "metadata": {},
   "source": [
    "## Fixed Real Rate"
   ]
  },
  {
   "cell_type": "code",
   "execution_count": 23,
   "id": "acd69bc4-696d-4a04-a5e7-017d8f9c6951",
   "metadata": {},
   "outputs": [],
   "source": [
    "\n",
    "irfs_transfer_fixed_real_rate = HANK_SAM_fixed_real_rate.solve_impulse_linear(SteadyState_Dict_transfer, unknowns_fixed_real_rate, targets_fixed_real_rate, shocks_transfers)  # solve for IRFs\n"
   ]
  },
  {
   "cell_type": "code",
   "execution_count": 24,
   "id": "bb89921f-a7c2-40ad-830b-9e28b911e4fd",
   "metadata": {},
   "outputs": [
    {
     "name": "stdout",
     "output_type": "stream",
     "text": [
      "multiplier out of transfers (active taylor rule) 0.8879593016300241\n",
      "multiplier out of transfers (fixed nominal rate) 1.2402181267974106\n",
      "multiplier out of transfers (fixed real rate) 1.1814820188326367\n"
     ]
    }
   ],
   "source": [
    "print('multiplier out of transfers (active taylor rule)', NPV(irfs_transfer['Y'], bigT)/NPV(irfs_transfer['transfers'],bigT))\n",
    "print('multiplier out of transfers (fixed nominal rate)', NPV(irfs_transfer_fixed_nominal_rate['Y'], bigT)/NPV(irfs_transfer_fixed_nominal_rate['transfers'],bigT))\n",
    "print('multiplier out of transfers (fixed real rate)'   ,    NPV(irfs_transfer_fixed_real_rate['Y'], bigT)/NPV(irfs_transfer_fixed_real_rate['transfers'],bigT))\n"
   ]
  },
  {
   "cell_type": "markdown",
   "id": "746d0ec9-dae4-410b-b389-71389901e697",
   "metadata": {},
   "source": [
    "# Tax cut"
   ]
  },
  {
   "cell_type": "code",
   "execution_count": 25,
   "id": "a780cbb5-a875-40d6-a537-45baba9a67a2",
   "metadata": {},
   "outputs": [],
   "source": [
    "\n",
    "\n",
    "dtau = np.zeros(bigT)\n",
    "dtau[:tax_cut_length] = -.02\n",
    "shocks_tau = {'tau': dtau}\n",
    "\n",
    "\n",
    "SteadyState_Dict_tax_shock = deepcopy(SteadyState_Dict)\n",
    "\n",
    "\n",
    "SteadyState_Dict_tax_shock['phi_G'] = -phi_b # fiscal adjustment parameter\n",
    "SteadyState_Dict_tax_shock['phi_w'] = real_wage_rigidity # wage ridigity parameter ( if equal to 1.0 than real wage is fixed)\n",
    "SteadyState_Dict_tax_shock['rho_r'] = rho_r #inertial parameter for taylor rule\n",
    "SteadyState_Dict_tax_shock['phi_y'] = phi_y # taylor rule coefficient on output\n",
    "SteadyState_Dict_tax_shock['phi_pi'] = phi_pi # taylor rule coefficient on inflation\n",
    "SteadyState_Dict_tax_shock['deficit_T'] = -1 # the number of periods it takes for government to adjust and follow its fiscal rule. \n",
    "#If equal to -40, then government will keep taxes fixed for 40 quarters\n",
    "\n",
    "SteadyState_Dict_tax_shock_fixed_rate= deepcopy(SteadyState_Dict_tax_shock)\n",
    "SteadyState_Dict_tax_shock_fixed_rate['phi_pi'] = 0.0\n",
    "\n",
    "irfs_tau = HANK_SAM_tax_rate_shock.solve_impulse_linear(SteadyState_Dict_tax_shock, unknowns, targets, shocks_tau)\n",
    "irfs_tau_fixed_nominal_rate = HANK_SAM_tax_rate_shock.solve_impulse_linear(SteadyState_Dict_tax_shock_fixed_rate, unknowns, targets, shocks_tau)\n",
    "\n",
    "\n",
    "\n",
    "\n"
   ]
  },
  {
   "cell_type": "code",
   "execution_count": 26,
   "id": "d3c2d9de-110b-403d-8b5a-723d4c99b327",
   "metadata": {},
   "outputs": [],
   "source": [
    "\n",
    "irfs_tau_fixed_real_rate = HANK_SAM_tax_cut_fixed_real_rate.solve_impulse_linear(SteadyState_Dict_tax_shock, unknowns_fixed_real_rate, targets_fixed_real_rate, shocks_tau)\n"
   ]
  },
  {
   "cell_type": "code",
   "execution_count": 27,
   "id": "b66e9025-2549-4754-a225-1a2b0f0f4199",
   "metadata": {},
   "outputs": [
    {
     "name": "stdout",
     "output_type": "stream",
     "text": [
      "multiplier out of tax cut -0.8416712562056485\n",
      "multiplier out of tax cut (fixed real rate) -1.1823878622267987\n",
      "multiplier out of tax cut (fixed nominal rate) -1.2677322615290652\n"
     ]
    }
   ],
   "source": [
    "print('multiplier out of tax cut', NPV(irfs_tau['Y'], bigT)/NPV(irfs_tau['tax_cost'],bigT))\n",
    "print('multiplier out of tax cut (fixed real rate)', NPV(irfs_tau_fixed_real_rate['Y'], bigT)/NPV(irfs_tau_fixed_real_rate['tax_cost'],bigT))\n",
    "\n",
    "print('multiplier out of tax cut (fixed nominal rate)', NPV(irfs_tau_fixed_nominal_rate['Y'], bigT)/NPV(irfs_tau_fixed_nominal_rate['tax_cost'],bigT))\n"
   ]
  },
  {
   "cell_type": "markdown",
   "id": "8d18e131-118b-4ed0-8544-cabe1df9ae7e",
   "metadata": {},
   "source": [
    "# Multipliers across the horizon (standard Taylor rule)\n"
   ]
  },
  {
   "cell_type": "code",
   "execution_count": 28,
   "id": "9df92f74-9b21-4fa4-8ee6-182e984413a6",
   "metadata": {},
   "outputs": [
    {
     "data": {
      "image/png": "[encoded data removed]",
      "text/plain": [
       "<Figure size 640x480 with 1 Axes>"
      ]
     },
     "metadata": {},
     "output_type": "display_data"
    }
   ],
   "source": [
    "horizon_length = 20\n",
    "\n",
    "multipliers_transfers_active = np.zeros(horizon_length)\n",
    "multipliers_UI_extensions_active = np.zeros(horizon_length)\n",
    "multipliers_tax_cut_active = np.zeros(horizon_length)\n",
    "\n",
    "for i in range(horizon_length):\n",
    "\n",
    "\n",
    "    multipliers_transfers_active[i] =  NPV(irfs_transfer['C'], i + 1)/NPV(irfs_transfer['transfers'],300)\n",
    "    multipliers_UI_extensions_active[i] =  NPV(irfs_UI_extend['C'], i + 1)/NPV(irfs_UI_extend['UI_extension_cost'],300)\n",
    "    multipliers_tax_cut_active[i] =  -NPV(irfs_tau['C'], i + 1)/NPV(irfs_tau['tax_cost'],300)\n",
    "\n",
    "plt.plot(np.arange(horizon_length) +1,multipliers_transfers_active , label = 'Stimulus Check', color = 'green')\n",
    "plt.plot(np.arange(horizon_length) +1,multipliers_UI_extensions_active , label = 'UI extensions' , color = 'blue')\n",
    "plt.plot(np.arange(horizon_length) +1,multipliers_tax_cut_active , label = 'Tax cut', color = 'red')\n",
    "plt.legend(loc = 'lower right')\n",
    "plt.ylabel('C mulitpliers')\n",
    "plt.xlabel('quarters $t$')\n",
    "plt.xlim(.5,12.5)\n",
    "plt.show()\n"
   ]
  },
  {
   "cell_type": "markdown",
   "id": "f93146cb-22ab-4f6b-b79b-8438f24b7171",
   "metadata": {},
   "source": [
    "# multipliers across the horizon (fixed real rate)"
   ]
  },
  {
   "cell_type": "code",
   "execution_count": 29,
   "id": "d4ec7e01-cbc0-49e6-ac0e-591583594bbd",
   "metadata": {},
   "outputs": [
    {
     "data": {
      "text/plain": [
       "\"\\n\\nhorizon_length = 20\\n\\nmultipliers_transfers = np.zeros(horizon_length)\\nmultipliers_UI_extensions = np.zeros(horizon_length)\\nmultipliers_UI_extensions_no_anticipation = np.zeros(horizon_length)\\nmultipliers_tax_cut = np.zeros(horizon_length)\\nmultipliers_UI_rr = np.zeros(horizon_length)\\n\\nfor i in range(horizon_length):\\n\\n\\n    multipliers_transfers[i] =  NPV(irfs_transfer_fixed_real_rate['C'], i + 1)/NPV(irfs_transfer_fixed_real_rate['transfers'],300)\\n    multipliers_UI_extensions[i] =  NPV(irfs_UI_extension_fixed_real_rate['C'], i + 1)/NPV(irfs_UI_extension_fixed_real_rate['UI_extension_cost'],300)\\n    multipliers_UI_extensions_no_anticipation[i] =  NPV(irf_UI_extend_realizations['C'], i + 1)/NPV(irf_UI_extend_realizations['UI_extension_cost'],300)\\n    multipliers_tax_cut[i] =  -NPV(irfs_tau_fixed_real_rate['C'], i + 1)/NPV(irfs_tau_fixed_real_rate['tax_cost'],300)\\n\\nplt.plot(np.arange(horizon_length) +1,multipliers_transfers , label = 'Stimulus Check', color = 'green')\\nplt.plot(np.arange(horizon_length) +1,multipliers_UI_extensions , label = 'UI extensions' , color = 'blue')\\nplt.plot(np.arange(horizon_length) +1,multipliers_tax_cut , label = 'Tax cut', color = 'red')\\nplt.legend(loc = 'lower right')\\nplt.ylabel('C mulitpliers')\\nplt.xlabel('quarters $t$')\\nplt.xlim(.5,12.5)\\nplt.show()\\n\""
      ]
     },
     "execution_count": 29,
     "metadata": {},
     "output_type": "execute_result"
    }
   ],
   "source": [
    "\"\"\"\n",
    "\n",
    "horizon_length = 20\n",
    "\n",
    "multipliers_transfers = np.zeros(horizon_length)\n",
    "multipliers_UI_extensions = np.zeros(horizon_length)\n",
    "multipliers_UI_extensions_no_anticipation = np.zeros(horizon_length)\n",
    "multipliers_tax_cut = np.zeros(horizon_length)\n",
    "multipliers_UI_rr = np.zeros(horizon_length)\n",
    "\n",
    "for i in range(horizon_length):\n",
    "\n",
    "\n",
    "    multipliers_transfers[i] =  NPV(irfs_transfer_fixed_real_rate['C'], i + 1)/NPV(irfs_transfer_fixed_real_rate['transfers'],300)\n",
    "    multipliers_UI_extensions[i] =  NPV(irfs_UI_extension_fixed_real_rate['C'], i + 1)/NPV(irfs_UI_extension_fixed_real_rate['UI_extension_cost'],300)\n",
    "    multipliers_UI_extensions_no_anticipation[i] =  NPV(irf_UI_extend_realizations['C'], i + 1)/NPV(irf_UI_extend_realizations['UI_extension_cost'],300)\n",
    "    multipliers_tax_cut[i] =  -NPV(irfs_tau_fixed_real_rate['C'], i + 1)/NPV(irfs_tau_fixed_real_rate['tax_cost'],300)\n",
    "\n",
    "plt.plot(np.arange(horizon_length) +1,multipliers_transfers , label = 'Stimulus Check', color = 'green')\n",
    "plt.plot(np.arange(horizon_length) +1,multipliers_UI_extensions , label = 'UI extensions' , color = 'blue')\n",
    "plt.plot(np.arange(horizon_length) +1,multipliers_tax_cut , label = 'Tax cut', color = 'red')\n",
    "plt.legend(loc = 'lower right')\n",
    "plt.ylabel('C mulitpliers')\n",
    "plt.xlabel('quarters $t$')\n",
    "plt.xlim(.5,12.5)\n",
    "plt.show()\n",
    "\"\"\""
   ]
  },
  {
   "cell_type": "markdown",
   "id": "1af6b1ed-1c3c-47e8-aae1-888734de542b",
   "metadata": {},
   "source": [
    "## Multipliers under fixed nominal rate"
   ]
  },
  {
   "cell_type": "code",
   "execution_count": 30,
   "id": "bc9044ad-84c2-49d4-b235-a506e6d1efe5",
   "metadata": {},
   "outputs": [],
   "source": [
    "\n",
    "horizon_length = 20\n",
    "\n",
    "multipliers_transfers_fixed_nominal_rate = np.zeros(horizon_length)\n",
    "multipliers_UI_extensions_fixed_nominal_rate = np.zeros(horizon_length)\n",
    "multipliers_UI_extensions_no_anticipation = np.zeros(horizon_length)\n",
    "multipliers_tax_cut_fixed_nominal_rate = np.zeros(horizon_length)\n",
    "\n",
    "multipliers_transfers = np.zeros(horizon_length)\n",
    "multipliers_UI_extend = np.zeros(horizon_length)\n",
    "multipliers_tax_cut = np.zeros(horizon_length)\n",
    "\n",
    "multipliers_transfers_fixed_real_rate = np.zeros(horizon_length)\n",
    "multipliers_UI_extensions_fixed_real_rate = np.zeros(horizon_length)\n",
    "multipliers_tax_cut_fixed_real_rate = np.zeros(horizon_length)\n",
    "\n",
    "for i in range(horizon_length):\n",
    "\n",
    "\n",
    "    multipliers_transfers_fixed_nominal_rate[i] =  NPV(irfs_transfer_fixed_nominal_rate['C'], i + 1)/NPV(irfs_transfer_fixed_nominal_rate['transfers'],300)\n",
    "    multipliers_UI_extensions_fixed_nominal_rate[i] =  NPV(irfs_UI_extend_fixed_nominal_rate['C'], i + 1)/NPV(irfs_UI_extend_fixed_nominal_rate['UI_extension_cost'],300)\n",
    "    #multipliers_UI_extensions_no_anticipation[i] =  NPV(irf_UI_extend_realizations['C'], i + 1)/NPV(irf_UI_extend_realizations['UI_extension_cost'],300)\n",
    "    multipliers_tax_cut_fixed_nominal_rate[i] =  -NPV(irfs_tau_fixed_nominal_rate['C'], i + 1)/NPV(irfs_tau_fixed_nominal_rate['tax_cost'],300)\n",
    "\n",
    "    multipliers_transfers[i] =  NPV(irfs_transfer['C'], i + 1)/NPV(irfs_transfer['transfers'],300)\n",
    "    multipliers_UI_extend[i] =  NPV(irfs_UI_extend['C'], i + 1)/NPV(irfs_UI_extend['UI_extension_cost'],300)\n",
    "    multipliers_tax_cut[i] =  -NPV(irfs_tau['C'], i + 1)/NPV(irfs_tau['tax_cost'],300)\n",
    "\n",
    "    multipliers_transfers_fixed_real_rate[i] =  NPV(irfs_transfer_fixed_real_rate['C'], i + 1)/NPV(irfs_transfer_fixed_real_rate['transfers'],300)\n",
    "    multipliers_UI_extensions_fixed_real_rate[i] =  NPV(irfs_UI_extension_fixed_real_rate['C'], i + 1)/NPV(irfs_UI_extension_fixed_real_rate['UI_extension_cost'],300)\n",
    "    multipliers_tax_cut_fixed_real_rate[i] =  -NPV(irfs_tau_fixed_real_rate['C'], i + 1)/NPV(irfs_tau_fixed_real_rate['tax_cost'],300)\n"
   ]
  },
  {
   "cell_type": "markdown",
   "id": "4686e8d8-225d-48d1-bf34-4bc75198e61d",
   "metadata": {},
   "source": [
    "# Consumption response to each policy under various monetary policy rules"
   ]
  },
  {
   "cell_type": "code",
   "execution_count": 31,
   "id": "417369b9-1a7d-4cb4-9222-a3f55435c25d",
   "metadata": {},
   "outputs": [],
   "source": [
    "def plot_consumption_irfs_three_experiments(irf_UI1,irf_UI2,irf_UI3, irf_SC1,irf_SC2,irf_SC3, irf_TC1,irf_TC2,irf_TC3):\n",
    "    \n",
    "    green = 'darkorange'\n",
    "    red = 'red'\n",
    "\n",
    "    Length = 12\n",
    "    fontsize = 10\n",
    "    width = 2\n",
    "    label_size = 8\n",
    "    legend_size = 8\n",
    "    ticksize = 8\n",
    "    fig, axs = plt.subplots(1, 3, figsize=(10,3))\n",
    "\n",
    "    y_max1 =  max(100*irf_TC2['C'][:Length]/C_ss)*1.05\n",
    "    y_max2 =  max(100*irf_SC2['C'][:Length]/C_ss)*1.05\n",
    "    y_max = max([y_max1,y_max2])\n",
    "    for i in range(3):\n",
    "        axs[i].set_ylim(0, y_max)\n",
    "\n",
    "    axs[1].plot(100*irf_UI1['C'][:Length]/C_ss,linewidth= width, label = \"Active Taylor Rule\")\n",
    "    axs[1].plot(100*irf_UI2['C'][:Length]/C_ss,linewidth= width, label = \"Fixed Nominal Rate\", linestyle = '--', color = green)\n",
    "    axs[1].plot(100*irf_UI3['C'][:Length]/C_ss,linewidth= width, label = \"Fixed Real \" , linestyle = ':', color = red)\n",
    "    axs[1].set_title(\"UI Extension\",fontdict={'fontsize': fontsize})\n",
    "\n",
    "\n",
    "    axs[0].plot(100*irf_SC1['C'][:Length]/C_ss,linewidth= width, label = \"Active Taylor Rule\")\n",
    "    axs[0].plot(100*irf_SC2['C'][:Length]/C_ss,linewidth= width, label = \"Fixed Nominal Rate\", linestyle = '--', color = green)\n",
    "    axs[0].plot(100*irf_SC3['C'][:Length]/C_ss,linewidth= width, label = \"Fixed Real \" , linestyle = ':', color = red)\n",
    "    axs[0].set_title(\"Stimulus Check\",fontdict={'fontsize': fontsize})\n",
    "    axs[0].legend(prop={'size': legend_size})\n",
    "\n",
    "    axs[2].plot(100*irf_TC1['C'][:Length]/C_ss,linewidth= width, label = \"Active Taylor Rule\")\n",
    "    axs[2].plot(100*irf_TC2['C'][:Length]/C_ss,linewidth= width, label = \"Fixed Nominal Rate\", linestyle = '--', color = green)\n",
    "    axs[2].plot(100*irf_TC3['C'][:Length]/C_ss,linewidth= width, label = \"Fixed Real \" , linestyle = ':', color = red)\n",
    "    axs[2].set_title(\"Tax Cut\",fontdict={'fontsize': fontsize})\n",
    "\n",
    "    for i in range(3):\n",
    "        axs[i].plot(np.zeros(Length),'k' )\n",
    "        axs[i].tick_params(axis='both', labelsize=ticksize)\n",
    "\n",
    "        axs[i].set_ylabel('% consumption deviation', fontsize = label_size)\n",
    "        axs[i].set_xlabel('Quarters', fontsize = label_size)\n",
    "        axs[i].locator_params(axis='both', nbins=4) \n",
    "\n",
    "    fig.tight_layout()"
   ]
  },
  {
   "cell_type": "code",
   "execution_count": 32,
   "id": "239b650d-60d1-4ae3-8bb6-6c6e85d281b4",
   "metadata": {},
   "outputs": [
    {
     "data": {
      "image/png": "[encoded data removed]",
      "text/plain": [
       "<Figure size 1000x300 with 3 Axes>"
      ]
     },
     "metadata": {},
     "output_type": "display_data"
    }
   ],
   "source": [
    "\n",
    "plot_consumption_irfs_three_experiments(irfs_UI_extend,irfs_UI_extend_fixed_nominal_rate,irfs_UI_extension_fixed_real_rate, irfs_transfer,irfs_transfer_fixed_nominal_rate,irfs_transfer_fixed_real_rate, irfs_tau,irfs_tau_fixed_nominal_rate,irfs_tau_fixed_real_rate)\n",
    "plt.savefig(\"figures/HANK_IRFs_w_splurge.pdf\")\n",
    "\n"
   ]
  },
  {
   "cell_type": "markdown",
   "id": "fdcb6e25-46d3-4d57-95dd-b159418f5f2a",
   "metadata": {},
   "source": [
    "# Consumption response to each policy under a standard Taylor rule"
   ]
  },
  {
   "cell_type": "code",
   "execution_count": 33,
   "id": "0d6abbaa-e591-42bb-89e9-77d31847f1e5",
   "metadata": {},
   "outputs": [],
   "source": [
    "def plot_consumption_irfs_three(irf_UI1, irf_SC1, irf_TC1):\n",
    "    \n",
    "    green = 'darkorange'\n",
    "    red = 'red'\n",
    "\n",
    "    Length = 12\n",
    "    fontsize = 10\n",
    "    width = 2\n",
    "    label_size = 8\n",
    "    legend_size = 8\n",
    "    ticksize = 8\n",
    "    fig, axs = plt.subplots(1, 3, figsize=(10,3))\n",
    "\n",
    "    y_max1 =  max(100*irf_TC1['C'][:Length]/C_ss)*1.05\n",
    "    y_max2 =  max(100*irf_SC1['C'][:Length]/C_ss)*1.05\n",
    "    y_max = max([y_max1,y_max2])\n",
    "    for i in range(3):\n",
    "        axs[i].set_ylim(0, y_max)\n",
    "\n",
    "    axs[1].plot(100*irf_UI1['C'][:Length]/C_ss,linewidth= width, label = \"Active Taylor Rule\")\n",
    "    axs[1].set_title(\"UI Extension\",fontdict={'fontsize': fontsize})\n",
    "\n",
    "\n",
    "    axs[0].plot(100*irf_SC1['C'][:Length]/C_ss,linewidth= width, label = \"Active Taylor Rule\")\n",
    "    axs[0].set_title(\"Stimulus Check\",fontdict={'fontsize': fontsize})\n",
    "    axs[0].legend(prop={'size': legend_size})\n",
    "\n",
    "    axs[2].plot(100*irf_TC1['C'][:Length]/C_ss,linewidth= width, label = \"Active Taylor Rule\")\n",
    "    axs[2].set_title(\"Tax Cut\",fontdict={'fontsize': fontsize})\n",
    "\n",
    "    for i in range(3):\n",
    "        axs[i].plot(np.zeros(Length),'k' )\n",
    "        axs[i].tick_params(axis='both', labelsize=ticksize)\n",
    "\n",
    "        axs[i].set_ylabel('% consumption deviation', fontsize = label_size)\n",
    "        axs[i].set_xlabel('Quarters', fontsize = label_size)\n",
    "        axs[i].locator_params(axis='both', nbins=4) \n",
    "\n",
    "    fig.tight_layout()"
   ]
  },
  {
   "cell_type": "code",
   "execution_count": 34,
   "id": "726f62e4-1ca6-4669-8654-dc9f2f251a05",
   "metadata": {},
   "outputs": [
    {
     "data": {
      "image/png": "[encoded data removed]",
      "text/plain": [
       "<Figure size 1000x300 with 3 Axes>"
      ]
     },
     "metadata": {},
     "output_type": "display_data"
    }
   ],
   "source": [
    "plot_consumption_irfs_three(irfs_UI_extend, irfs_transfer, irfs_tau)\n"
   ]
  },
  {
   "cell_type": "code",
   "execution_count": 35,
   "id": "7b2068c1-9fd8-443f-a26f-8784b137d49e",
   "metadata": {},
   "outputs": [],
   "source": [
    "# Make each plot individually to match what Ivan does in the main code\n",
    "def plot_consumption_irf(irf1, irf2, irf3, y_max, filename, legend = False):\n",
    "    green = 'darkorange'\n",
    "    red = 'red'\n",
    "\n",
    "    Length = 12\n",
    "    plt.figure(figsize=(4, 4))\n",
    "    x_axis = np.arange(1,Length+1)\n",
    "\n",
    "    plt.plot(x_axis,100*irf1['C'][:Length]/C_ss, label=\"Active Taylor Rule\")\n",
    "    plt.plot(x_axis,100*irf2['C'][:Length]/C_ss, label=\"Fixed Nominal Rate\", linestyle='--', color=green)\n",
    "    plt.plot(x_axis,100*irf3['C'][:Length]/C_ss, label=\"Fixed Real\", linestyle=':', color=red)\n",
    "\n",
    "    plt.xticks(np.arange(min(x_axis), max(x_axis)+1, 1.0))\n",
    "    plt.xlabel('quarter')\n",
    "    #plt.ylabel('% difference relative to recession')\n",
    "    #plt.savefig(fig_dir +'recession_taxcut_relrecession.pdf')\n",
    "    plt.ylim(0, y_max)\n",
    "    if legend:\n",
    "        plt.legend(loc='best')\n",
    "        plt.ylabel('% consumption deviation')\n",
    "        \n",
    "    #make_figs(filename, True , False, target_dir=fig_dir) \n",
    "    \n",
    "    plt.show() "
   ]
  },
  {
   "cell_type": "markdown",
   "id": "b18de4dc-9d8d-4e83-b537-39e60e8ee6ba",
   "metadata": {},
   "source": [
    "fig_dir = \"figures/\"\n",
    "y_max =  max(100*irfs_tau_fixed_nominal_rate['C'][:12]/C_ss)*1.05\n",
    "plot_consumption_irf( irfs_transfer,irfs_transfer_fixed_nominal_rate,irfs_transfer_fixed_real_rate, y_max, \"HANK_transfer_IRF\", legend=True)\n",
    "plot_consumption_irf( irfs_UI_extend,irfs_UI_extend_fixed_nominal_rate,irfs_UI_extension_fixed_real_rate, y_max, \"HANK_UI_IRF\")\n",
    "plot_consumption_irf( irfs_tau,irfs_tau_fixed_nominal_rate,irfs_tau_fixed_real_rate, y_max, \"HANK_tax_IRF\")"
   ]
  },
  {
   "cell_type": "code",
   "execution_count": 36,
   "id": "40f04bb2-51bf-4d8e-b896-ff770aa21091",
   "metadata": {},
   "outputs": [],
   "source": [
    "# Make each plot individually to match what Ivan does in the main code\n",
    "def plot_consumption_multipliers(multiplier1, multiplier2, multiplier3, y_max, filename, legend = False):\n",
    "    green = 'darkorange'\n",
    "    red = 'red'\n",
    "\n",
    "    Length = 12\n",
    "    plt.figure(figsize=(4, 4))\n",
    "    x_axis = np.arange(1,Length+1)\n",
    "\n",
    "    plt.plot(x_axis,multiplier1[0:Length], label=\"Active Taylor Rule\")\n",
    "    plt.plot(x_axis,multiplier2[0:Length], label=\"Fixed Nominal Rate\", linestyle='--', color=green)\n",
    "    plt.plot(x_axis,multiplier3[0:Length], label=\"Fixed Real\", linestyle=':', color=red)\n",
    "\n",
    "    plt.xticks(np.arange(min(x_axis), max(x_axis)+1, 1.0))\n",
    "    plt.xlabel('quarter')\n",
    "    plt.ylim(0, y_max)\n",
    "    if legend:\n",
    "        plt.legend(loc='best')\n",
    "    #make_figs(filename, True , False, target_dir=fig_dir)\n",
    "    plt.show() "
   ]
  },
  {
   "cell_type": "code",
   "execution_count": 37,
   "id": "e8ff2948-83d2-4e17-ba06-608f2fa6ae2b",
   "metadata": {},
   "outputs": [
    {
     "data": {
      "image/png": "[encoded data removed]",
      "text/plain": [
       "<Figure size 400x400 with 1 Axes>"
      ]
     },
     "metadata": {},
     "output_type": "display_data"
    },
    {
     "data": {
      "image/png": "[encoded data removed]",
      "text/plain": [
       "<Figure size 400x400 with 1 Axes>"
      ]
     },
     "metadata": {},
     "output_type": "display_data"
    },
    {
     "data": {
      "image/png": "[encoded data removed]",
      "text/plain": [
       "<Figure size 400x400 with 1 Axes>"
      ]
     },
     "metadata": {},
     "output_type": "display_data"
    }
   ],
   "source": [
    "fig_dir = \"figures/\"\n",
    "y_max =  1.9\n",
    "plot_consumption_multipliers( multipliers_transfers,multipliers_transfers_fixed_nominal_rate,multipliers_transfers_fixed_real_rate, y_max, \"HANK_transfer_multiplier\")\n",
    "plot_consumption_multipliers( multipliers_UI_extend,multipliers_UI_extensions_fixed_nominal_rate,multipliers_UI_extensions_fixed_real_rate, y_max, \"HANK_UI_multiplier\")\n",
    "plot_consumption_multipliers( multipliers_tax_cut,multipliers_tax_cut_fixed_nominal_rate,multipliers_tax_cut_fixed_real_rate, y_max, \"HANK_tax_multiplier\")"
   ]
  }
 ],
 "metadata": {
  "kernelspec": {
   "display_name": "Python 3 (ipykernel)",
   "language": "python",
   "name": "python3"
  },
  "language_info": {
   "codemirror_mode": {
    "name": "ipython",
    "version": 3
   },
   "file_extension": ".py",
   "mimetype": "text/x-python",
   "name": "python",
   "nbconvert_exporter": "python",
   "pygments_lexer": "ipython3",
   "version": "3.9.19"
  }
 },
 "nbformat": 4,
 "nbformat_minor": 5
}
